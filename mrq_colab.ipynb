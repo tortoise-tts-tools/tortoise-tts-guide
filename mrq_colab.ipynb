{
   "cells": [
      {
         "cell_type": "markdown",
         "metadata": {
            "id": "ni41hmE03DL6"
         },
         "source": [
            "## Initialization\n",
            "\n",
            "From [this](https://git.ecker.tech/mrq/ai-voice-cloning) - License of this file: GPLv3"
         ]
      },
      {
         "cell_type": "code",
         "execution_count": null,
         "metadata": {
            "id": "FtsMKKfH18iM"
         },
         "outputs": [],
         "source": [
            "!apt install python3.8-venv\n",
            "!git clone https://git.ecker.tech/mrq/ai-voice-cloning/\n",
            "%cd /content/ai-voice-cloning\n",
            "!./setup-cuda.sh"
         ]
      },
      {
         "cell_type": "markdown",
         "metadata": {
            "id": "IzrGt5IcHlAD"
         },
         "source": [
            "# Update Repos"
         ]
      },
      {
         "cell_type": "code",
         "execution_count": null,
         "metadata": {
            "id": "3DktoOXSHmtw"
         },
         "outputs": [],
         "source": [
            "# for my debugging purposes\n",
            "%cd /content/ai-voice-cloning/\n",
            "!./update.sh"
         ]
      },
      {
         "cell_type": "markdown",
         "metadata": {
            "id": "2Y4t9zDIZMTg"
         },
         "source": [
            "# Mount Drive"
         ]
      },
      {
         "cell_type": "code",
         "execution_count": null,
         "metadata": {
            "id": "SGt9gyvubveT"
         },
         "outputs": [],
         "source": [
            "# only run once, this will save all userdata to your Drive\n",
            "# it shouldn't delete through symlinks, but you never know\n",
            "\n",
            "from google.colab import drive\n",
            "\n",
            "%cd /content/ai-voice-cloning\n",
            "drive.flush_and_unmount()\n",
            "!rm -r ./{training,results,voices,config}\n",
            "drive.mount('/content/drive')\n",
            "!mkdir /content/drive/MyDrive/ai-voice-cloning/\n",
            "!mv /content/drive/MyDrive/{training,results,voices,config} /content/drive/MyDrive/ai-voice-cloning\n",
            "!mkdir /content/drive/MyDrive/ai-voice-cloning/{training,results,voices,config}\n",
            "!ln -s /content/drive/MyDrive/ai-voice-cloning/{training,results,voices,config} ./"
         ]
      },
      {
         "cell_type": "markdown",
         "metadata": {
            "id": "EM3iNqgJF6Be"
         },
         "source": [
            "## Running"
         ]
      },
      {
         "cell_type": "code",
         "execution_count": null,
         "metadata": {
            "id": "QRA8jF3cF-YJ"
         },
         "outputs": [],
         "source": [
            "%cd /content/ai-voice-cloning/\n",
            "!./start.sh --share"
         ]
      },
      {
         "cell_type": "markdown",
         "metadata": {
            "id": "vH9KU7SMGDxb"
         },
         "source": [
            "# Restart Runtime"
         ]
      },
      {
         "cell_type": "code",
         "execution_count": null,
         "metadata": {
            "id": "EWeyUPvgGDX5"
         },
         "outputs": [],
         "source": [
            "exit()"
         ]
      },
      {
         "cell_type": "markdown",
         "metadata": {
            "id": "ggLY9A9KA21D"
         },
         "source": [
            "# Fallback Training"
         ]
      },
      {
         "cell_type": "code",
         "execution_count": null,
         "metadata": {
            "id": "-KayB8klA5tY"
         },
         "outputs": [],
         "source": [
            "# This is in case you can't get training through the web UI\n",
            "%cd /content/ai-voice-cloning\n",
            "!python ./dlas/codes/train.py -opt ./training/finetune.yaml"
         ]
      },
      {
         "cell_type": "markdown",
         "metadata": {
            "id": "2AnVQxEJx47p"
         },
         "source": [
            "## Exporting"
         ]
      },
      {
         "cell_type": "code",
         "execution_count": null,
         "metadata": {
            "id": "YOACiDCXx72G"
         },
         "outputs": [],
         "source": [
            "# if you're not using drive mounting\n",
            "%cd /content/ai-voice-cloning\n",
            "!apt install -y p7zip-full\n",
            "from datetime import datetime\n",
            "timestamp = datetime.now().strftime('%m-%d-%Y_%H:%M:%S')\n",
            "!mkdir -p \"../{timestamp}/results\"\n",
            "!mv ./results/* \"../{timestamp}/results/.\"\n",
            "!mv ./training/* \"../{timestamp}/training/.\"\n",
            "!7z a -t7z -m0=lzma2 -mx=9 -mfb=64 -md=32m -ms=on \"../{timestamp}.7z\" \"../{timestamp}/\"\n",
            "!ls ~/\n",
            "!echo \"Finished zipping, archive is available at {timestamp}.7z\""
         ]
      }
   ],
   "metadata": {
      "accelerator": "GPU",
      "colab": {
         "private_outputs": true,
         "provenance": []
      },
      "gpuClass": "standard",
      "kernelspec": {
         "display_name": "Python 3",
         "name": "python3"
      },
      "language_info": {
         "name": "python"
      }
   },
   "nbformat": 4,
   "nbformat_minor": 0
}
